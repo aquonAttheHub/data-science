{
 "cells": [
  {
   "cell_type": "markdown",
   "id": "3f465500",
   "metadata": {},
   "source": [
    "# Project 2, Part 7, Analysis on continuing to withhold customer data from 3rd parties\n",
    "\n",
    "University of California, Berkeley\n",
    "\n",
    "Master of Information and Data Science (MIDS) program\n",
    "\n",
    "w205 - Fundamentals of Data Engineering\n"
   ]
  },
  {
   "cell_type": "markdown",
   "id": "1cf92eab",
   "metadata": {},
   "source": [
    "# 2.7 Analysis on continuing to withhold customer data from 3rd parties\n",
    "\n",
    "As stated in the scenario, like most companies, AGM does not want to give out its customer list to 3rd party sales channels.  The downside is, as we have seen, that customer first names, last names, and street addresses will have some variations and not be exact matches.\n",
    "\n",
    "The data science team would like your analysis of both options:\n",
    "\n",
    "1)  Continue to withhold the customer data from 3rd party sales channels\n",
    "\n",
    "2)  Give customer data to 3rd party sales channels\n",
    "\n",
    "The data science team would also like your recommendation on which option you think is best.  \n",
    "\n",
    "In the markdown cell, you must provide:\n",
    "* A meaningful title\n",
    "* Write a brief paragraph for option 1.\n",
    "* Write a brief paragraph for option 2.\n",
    "* Write a brief paragraph with your recommendation, which must be either option 1 or option 2, you cannot recommend something else.\n",
    "\n",
    "Put the title and all 3 paragraphs in a single markdown cell.\n",
    "\n",
    "You are not required to write any queries nor any code nor create any data visualizations.  Simply provide English text.\n"
   ]
  },
  {
   "cell_type": "markdown",
   "id": "c8086a63",
   "metadata": {},
   "source": [
    "# Tradeoffs and Recommended Action for Withholding Customer Data from 3rd Parties\n",
    "\n",
    "The option to continue withholding customer data from 3rd parties is a great way of keeping customer data confidential, reassuring customers that AGM respects their privacy. By keeping customer data confidential, AGM can boost customers’ trust in the growing business and thus help expand its customer base, increasing revenue. Although withholding customer data from 3rd parties means that we will have to clean data due to inconsistent input formats, preliminary analytics from the most recent data show that only 13.4% of Peak’s customer records do not match to AGM’s customer table. \n",
    "\n",
    "The option to give customer data to 3rd party sales alleviates issues of cleaning data. As more and more customers are participating in the new delivery system, the percentage of inconsistent customer record formats is expected to rise beyond 13.4%, posing scalability issues for cleaning. 97 sales amounting to a total of $6480 have already been recorded from the first day of data, hinting at potentially larger number of sales in the future. Although the option of sharing data to 3rd party sales is an attractive option to reduce the workload of cleaning data, there are risks relating to confidentiality of customer data. If 3rd party sales do not have reliable means of processing customer data, customer information can be leaked.\n",
    "\n",
    "After careful consideration, the option to continue withholding customer data is the better option since it preserves data confidentiality. Even though the number of sales may rise significantly, we can mitigate data inconsistency and cleaning by communicating with Peak Deliveries about the desired input formats they should enforce when customers’ data are recorded. With only 13.4% of Peak’s customer records inconsistent with those in AGM’s customer table, cleaning data should be manageable with current techniques, experience, and expertise on the data science team.\n"
   ]
  },
  {
   "cell_type": "code",
   "execution_count": null,
   "id": "b8c59d2b",
   "metadata": {},
   "outputs": [],
   "source": []
  }
 ],
 "metadata": {
  "kernelspec": {
   "display_name": "Python 3 (ipykernel)",
   "language": "python",
   "name": "python3"
  },
  "language_info": {
   "codemirror_mode": {
    "name": "ipython",
    "version": 3
   },
   "file_extension": ".py",
   "mimetype": "text/x-python",
   "name": "python",
   "nbconvert_exporter": "python",
   "pygments_lexer": "ipython3",
   "version": "3.9.7"
  }
 },
 "nbformat": 4,
 "nbformat_minor": 5
}
