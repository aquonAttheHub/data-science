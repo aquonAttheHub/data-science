{
 "cells": [
  {
   "cell_type": "markdown",
   "id": "86b6d1d9",
   "metadata": {},
   "source": [
    "# Djikstra's Algorithm on Bart Station Graph"
   ]
  },
  {
   "cell_type": "code",
   "execution_count": 1,
   "id": "0d3d1e7c",
   "metadata": {},
   "outputs": [],
   "source": [
    "import csv\n",
    "\n",
    "import math\n",
    "import numpy as np\n",
    "import pandas as pd\n",
    "\n",
    "import psycopg2\n",
    "\n",
    "#\n",
    "# function to run a select query and return rows in a pandas dataframe\n",
    "# pandas puts all numeric values from postgres to float\n",
    "# if it will fit in an integer, change it to integer\n",
    "#\n",
    "\n",
    "def my_select_query_pandas(query, rollback_before_flag, rollback_after_flag):\n",
    "    \"function to run a select query and return rows in a pandas dataframe\"\n",
    "    \n",
    "    if rollback_before_flag:\n",
    "        connection.rollback()\n",
    "    \n",
    "    df = pd.read_sql_query(query, connection)\n",
    "    \n",
    "    if rollback_after_flag:\n",
    "        connection.rollback()\n",
    "    \n",
    "    # fix the float columns that really should be integers\n",
    "    \n",
    "    for column in df:\n",
    "    \n",
    "        if df[column].dtype == \"float64\":\n",
    "\n",
    "            fraction_flag = False\n",
    "\n",
    "            for value in df[column].values:\n",
    "                \n",
    "                if not np.isnan(value):\n",
    "                    if value - math.floor(value) != 0:\n",
    "                        fraction_flag = True\n",
    "\n",
    "            if not fraction_flag:\n",
    "                df[column] = df[column].astype('Int64')\n",
    "    \n",
    "    return(df)\n",
    "    "
   ]
  },
  {
   "cell_type": "code",
   "execution_count": 2,
   "id": "46c4027f",
   "metadata": {},
   "outputs": [],
   "source": [
    "connection = psycopg2.connect(\n",
    "    user = \"postgres\",\n",
    "    password = \"ucb\",\n",
    "    host = \"postgres\",\n",
    "    port = \"5432\",\n",
    "    database = \"postgres\"\n",
    ")"
   ]
  },
  {
   "cell_type": "code",
   "execution_count": 3,
   "id": "4a2863ab",
   "metadata": {},
   "outputs": [],
   "source": [
    "cursor = connection.cursor()"
   ]
  },
  {
   "cell_type": "code",
   "execution_count": 4,
   "id": "b6604e59",
   "metadata": {},
   "outputs": [],
   "source": [
    "def my_read_csv_file(file_name, limit):\n",
    "    \"read the csv file and print only the first limit rows\"\n",
    "    \n",
    "    csv_file = open(file_name, \"r\")\n",
    "    \n",
    "    csv_data = csv.reader(csv_file)\n",
    "    \n",
    "    i = 0\n",
    "    \n",
    "    for row in csv_data:\n",
    "        i += 1\n",
    "        if i <= limit:\n",
    "            print(row)\n",
    "            \n",
    "    print(\"\\nPrinted \", min(limit, i), \"lines of \", i, \"total lines.\")"
   ]
  },
  {
   "cell_type": "code",
   "execution_count": 5,
   "id": "a61333b8",
   "metadata": {},
   "outputs": [],
   "source": [
    "import neo4j\n",
    "driver = neo4j.GraphDatabase.driver(uri=\"neo4j://neo4j:7687\", auth=(\"neo4j\",\"ucb_mids_w205\"))\n",
    "session = driver.session(database=\"neo4j\")"
   ]
  },
  {
   "cell_type": "code",
   "execution_count": 6,
   "id": "585da193",
   "metadata": {},
   "outputs": [],
   "source": [
    "def my_neo4j_wipe_out_database():\n",
    "    \"wipe out database by deleting all nodes and relationships\"\n",
    "    \n",
    "    query = \"match (node)-[relationship]->() delete node, relationship\"\n",
    "    session.run(query)\n",
    "    \n",
    "    query = \"match (node) delete node\"\n",
    "    session.run(query)"
   ]
  },
  {
   "cell_type": "code",
   "execution_count": 7,
   "id": "0e4b2d19",
   "metadata": {},
   "outputs": [],
   "source": [
    "def my_neo4j_run_query_pandas(query, **kwargs):\n",
    "    \"run a query and return the results in a pandas dataframe\"\n",
    "    \n",
    "    result = session.run(query, **kwargs)\n",
    "    \n",
    "    df = pd.DataFrame([r.values() for r in result], columns=result.keys())\n",
    "    \n",
    "    return df"
   ]
  },
  {
   "cell_type": "code",
   "execution_count": 8,
   "id": "05328bd6",
   "metadata": {},
   "outputs": [],
   "source": [
    "def my_neo4j_number_nodes_relationships():\n",
    "    \"print the number of nodes and relationships\"\n",
    "   \n",
    "    \n",
    "    query = \"\"\"\n",
    "        match (n) \n",
    "        return n.name as node_name, labels(n) as labels\n",
    "        order by n.name\n",
    "    \"\"\"\n",
    "    \n",
    "    df = my_neo4j_run_query_pandas(query)\n",
    "    \n",
    "    number_nodes = df.shape[0]\n",
    "    \n",
    "    \n",
    "    query = \"\"\"\n",
    "        match (n1)-[r]->(n2) \n",
    "        return n1.name as node_name_1, labels(n1) as node_1_labels, \n",
    "            type(r) as relationship_type, n2.name as node_name_2, labels(n2) as node_2_labels\n",
    "        order by node_name_1, node_name_2\n",
    "    \"\"\"\n",
    "    \n",
    "    df = my_neo4j_run_query_pandas(query)\n",
    "    \n",
    "    number_relationships = df.shape[0]\n",
    "    \n",
    "    print(\"-------------------------\")\n",
    "    print(\"  Nodes:\", number_nodes)\n",
    "    print(\"  Relationships:\", number_relationships)\n",
    "    print(\"-------------------------\")\n"
   ]
  },
  {
   "cell_type": "code",
   "execution_count": 9,
   "id": "0599bc2c",
   "metadata": {},
   "outputs": [],
   "source": [
    "def my_neo4j_create_node(station_name):\n",
    "    \"create a node with label Station\"\n",
    "    \n",
    "    query = \"\"\"\n",
    "    \n",
    "    CREATE (:Station {name: $station_name})\n",
    "    \n",
    "    \"\"\"\n",
    "    \n",
    "    session.run(query, station_name=station_name)\n",
    "    "
   ]
  },
  {
   "cell_type": "code",
   "execution_count": 10,
   "id": "0584dff9",
   "metadata": {},
   "outputs": [],
   "source": [
    "def my_neo4j_create_relationship_one_way(from_station, to_station, weight):\n",
    "    \"create a relationship one way between two stations with a weight\"\n",
    "    \n",
    "    query = \"\"\"\n",
    "    \n",
    "    MATCH (from:Station), \n",
    "          (to:Station)\n",
    "    WHERE from.name = $from_station and to.name = $to_station\n",
    "    CREATE (from)-[:LINK {weight: $weight}]->(to)\n",
    "    \n",
    "    \"\"\"\n",
    "    \n",
    "    session.run(query, from_station=from_station, to_station=to_station, weight=weight)\n",
    "    "
   ]
  },
  {
   "cell_type": "code",
   "execution_count": 11,
   "id": "1f664600",
   "metadata": {},
   "outputs": [],
   "source": [
    "def my_neo4j_create_relationship_two_way(from_station, to_station, weight):\n",
    "    \"create relationships two way between two stations with a weight\"\n",
    "    \n",
    "    query = \"\"\"\n",
    "    \n",
    "    MATCH (from:Station), \n",
    "          (to:Station)\n",
    "    WHERE from.name = $from_station and to.name = $to_station\n",
    "    CREATE (from)-[:LINK {weight: $weight}]->(to),\n",
    "           (to)-[:LINK {weight: $weight}]->(from)\n",
    "    \n",
    "    \"\"\"\n",
    "    \n",
    "    session.run(query, from_station=from_station, to_station=to_station, weight=weight)\n",
    "    "
   ]
  },
  {
   "cell_type": "code",
   "execution_count": 12,
   "id": "c259ea0b",
   "metadata": {},
   "outputs": [],
   "source": [
    "connection = psycopg2.connect(\n",
    "    user = \"postgres\",\n",
    "    password = \"ucb\",\n",
    "    host = \"postgres\",\n",
    "    port = \"5432\",\n",
    "    database = \"postgres\"\n",
    ")"
   ]
  },
  {
   "cell_type": "code",
   "execution_count": 13,
   "id": "1fd46227",
   "metadata": {},
   "outputs": [],
   "source": [
    "cursor = connection.cursor()"
   ]
  },
  {
   "cell_type": "code",
   "execution_count": 14,
   "id": "f9ab4f23",
   "metadata": {},
   "outputs": [],
   "source": [
    "my_neo4j_wipe_out_database()"
   ]
  },
  {
   "cell_type": "code",
   "execution_count": 15,
   "id": "c4167ed1",
   "metadata": {},
   "outputs": [
    {
     "name": "stdout",
     "output_type": "stream",
     "text": [
      "-------------------------\n",
      "  Nodes: 0\n",
      "  Relationships: 0\n",
      "-------------------------\n"
     ]
    }
   ],
   "source": [
    "my_neo4j_number_nodes_relationships()"
   ]
  },
  {
   "cell_type": "code",
   "execution_count": 16,
   "id": "9ff28891",
   "metadata": {},
   "outputs": [
    {
     "name": "stdout",
     "output_type": "stream",
     "text": [
      "[('12th Street',), ('16th Street Mission',), ('19th Street',), ('24th Street Mission',), ('Antioch',), ('Ashby',), ('Balboa Park',), ('Bay Fair',), ('Berryessa',), ('Castro Valley',), ('Civic Center',), ('Coliseum',), ('Colma',), ('Concord',), ('Daly City',), ('Downtown Berkeley',), ('Dublin',), ('El Cerrito del Norte',), ('El Cerrito Plaza',), ('Embarcadero',), ('Fremont',), ('Fruitvale',), ('Glen Park',), ('Hayward',), ('Lafayette',), ('Lake Merritt',), ('MacArthur',), ('Millbrae',), ('Milpitas',), ('Montgomery Street',), ('North Berkeley',), ('North Concord',), ('OAK',), ('Orinda',), ('Pittsburg',), ('Pittsburg Center',), ('Pleasant Hill',), ('Powell Street',), ('Richmond',), ('Rockridge',), ('San Bruno',), ('San Leandro',), ('SFO',), ('South Hayward',), ('South San Francisco',), ('Union City',), ('Walnut Creek',), ('Warm Springs',), ('West Dublin',), ('West Oakland',)]\n"
     ]
    }
   ],
   "source": [
    "connection.rollback()\n",
    "\n",
    "query = \"\"\"\n",
    "\n",
    "select station\n",
    "from stations\n",
    "order by station\n",
    "\n",
    "\"\"\"\n",
    "\n",
    "cursor.execute(query)\n",
    "\n",
    "connection.rollback()\n",
    "\n",
    "rows = cursor.fetchall()\n",
    "\n",
    "print(rows)\n",
    "\n",
    "for row in rows:\n",
    "    \n",
    "    station = row[0]\n",
    "    \n",
    "    my_neo4j_create_node('depart ' + station)\n",
    "    my_neo4j_create_node('arrive ' + station)\n",
    "    "
   ]
  },
  {
   "cell_type": "code",
   "execution_count": 17,
   "id": "3d709659",
   "metadata": {},
   "outputs": [
    {
     "name": "stdout",
     "output_type": "stream",
     "text": [
      "[('12th Street', 'orange'), ('12th Street', 'red'), ('12th Street', 'yellow'), ('16th Street Mission', 'blue'), ('16th Street Mission', 'green'), ('16th Street Mission', 'red'), ('16th Street Mission', 'yellow'), ('19th Street', 'orange'), ('19th Street', 'red'), ('19th Street', 'yellow'), ('24th Street Mission', 'blue'), ('24th Street Mission', 'green'), ('24th Street Mission', 'red'), ('24th Street Mission', 'yellow'), ('Antioch', 'yellow'), ('Ashby', 'orange'), ('Ashby', 'red'), ('Balboa Park', 'blue'), ('Balboa Park', 'green'), ('Balboa Park', 'red'), ('Balboa Park', 'yellow'), ('Bay Fair', 'blue'), ('Bay Fair', 'green'), ('Bay Fair', 'orange'), ('Berryessa', 'green'), ('Berryessa', 'orange'), ('Castro Valley', 'blue'), ('Civic Center', 'blue'), ('Civic Center', 'green'), ('Civic Center', 'red'), ('Civic Center', 'yellow'), ('Coliseum', 'blue'), ('Coliseum', 'gray'), ('Coliseum', 'green'), ('Coliseum', 'orange'), ('Colma', 'red'), ('Colma', 'yellow'), ('Concord', 'yellow'), ('Daly City', 'blue'), ('Daly City', 'green'), ('Daly City', 'red'), ('Daly City', 'yellow'), ('Downtown Berkeley', 'orange'), ('Downtown Berkeley', 'red'), ('Dublin', 'blue'), ('El Cerrito del Norte', 'orange'), ('El Cerrito del Norte', 'red'), ('El Cerrito Plaza', 'orange'), ('El Cerrito Plaza', 'red'), ('Embarcadero', 'blue'), ('Embarcadero', 'green'), ('Embarcadero', 'red'), ('Embarcadero', 'yellow'), ('Fremont', 'green'), ('Fremont', 'orange'), ('Fruitvale', 'blue'), ('Fruitvale', 'green'), ('Fruitvale', 'orange'), ('Glen Park', 'blue'), ('Glen Park', 'green'), ('Glen Park', 'red'), ('Glen Park', 'yellow'), ('Hayward', 'green'), ('Hayward', 'orange'), ('Lafayette', 'yellow'), ('Lake Merritt', 'blue'), ('Lake Merritt', 'green'), ('Lake Merritt', 'orange'), ('MacArthur', 'orange'), ('MacArthur', 'red'), ('MacArthur', 'yellow'), ('Millbrae', 'red'), ('Milpitas', 'green'), ('Milpitas', 'orange'), ('Montgomery Street', 'blue'), ('Montgomery Street', 'green'), ('Montgomery Street', 'red'), ('Montgomery Street', 'yellow'), ('North Berkeley', 'orange'), ('North Berkeley', 'red'), ('North Concord', 'yellow'), ('OAK', 'gray'), ('Orinda', 'yellow'), ('Pittsburg', 'yellow'), ('Pittsburg Center', 'yellow'), ('Pleasant Hill', 'yellow'), ('Powell Street', 'blue'), ('Powell Street', 'green'), ('Powell Street', 'red'), ('Powell Street', 'yellow'), ('Richmond', 'orange'), ('Richmond', 'red'), ('Rockridge', 'yellow'), ('San Bruno', 'red'), ('San Bruno', 'yellow'), ('San Leandro', 'blue'), ('San Leandro', 'green'), ('San Leandro', 'orange'), ('SFO', 'red'), ('SFO', 'yellow'), ('South Hayward', 'green'), ('South Hayward', 'orange'), ('South San Francisco', 'red'), ('South San Francisco', 'yellow'), ('Union City', 'green'), ('Union City', 'orange'), ('Walnut Creek', 'yellow'), ('Warm Springs', 'green'), ('Warm Springs', 'orange'), ('West Dublin', 'blue'), ('West Oakland', 'blue'), ('West Oakland', 'green'), ('West Oakland', 'red'), ('West Oakland', 'yellow')]\n"
     ]
    }
   ],
   "source": [
    "connection.rollback()\n",
    "\n",
    "query = \"\"\"\n",
    "\n",
    "select station, line\n",
    "from lines\n",
    "order by station, line\n",
    "\n",
    "\"\"\"\n",
    "\n",
    "cursor.execute(query)\n",
    "\n",
    "connection.rollback()\n",
    "\n",
    "rows = cursor.fetchall()\n",
    "\n",
    "print(rows)"
   ]
  },
  {
   "cell_type": "code",
   "execution_count": 18,
   "id": "fad7a82a",
   "metadata": {},
   "outputs": [],
   "source": [
    "for row in rows:\n",
    "    \n",
    "    station = row[0]\n",
    "    line = row[1]\n",
    "    \n",
    "    my_neo4j_create_node(line + ' ' + station)\n",
    "    my_neo4j_create_relationship_one_way('depart ' + station, line + ' ' + station,0)\n",
    "    my_neo4j_create_relationship_one_way(line + ' ' + station, 'arrive ' + station,0)\n",
    "    \n",
    "    "
   ]
  },
  {
   "cell_type": "code",
   "execution_count": 19,
   "id": "2c21e7a9",
   "metadata": {},
   "outputs": [
    {
     "name": "stdout",
     "output_type": "stream",
     "text": [
      "-------------------------\n",
      "  Nodes: 214\n",
      "  Relationships: 228\n",
      "-------------------------\n"
     ]
    }
   ],
   "source": [
    "my_neo4j_number_nodes_relationships()"
   ]
  },
  {
   "cell_type": "code",
   "execution_count": 20,
   "id": "8fef6ff9",
   "metadata": {},
   "outputs": [],
   "source": [
    "connection.rollback()\n",
    "\n",
    "query = \"\"\"\n",
    "\n",
    "select a.station, a.line as from_line, b.line as to_line, s.transfer_time\n",
    "from lines a\n",
    "     join lines b\n",
    "       on a.station = b.station and a.line <> b.line \n",
    "     join stations s\n",
    "       on a.station = s.station\n",
    "order by 1, 2, 3\n",
    "\n",
    "\"\"\"\n",
    "cursor.execute(query)\n",
    "\n",
    "connection.rollback()\n",
    "\n",
    "rows = cursor.fetchall()\n",
    "\n",
    "for row in rows:\n",
    "    \n",
    "    station = row[0]\n",
    "    from_line = row[1]\n",
    "    to_line = row[2]\n",
    "    transfer_time = int(row[3])\n",
    "    \n",
    "    \n",
    "    my_neo4j_create_relationship_one_way(from_line + ' ' + station, to_line + ' ' + station, transfer_time)\n",
    "    \n"
   ]
  },
  {
   "cell_type": "code",
   "execution_count": 21,
   "id": "faa6fadd",
   "metadata": {},
   "outputs": [
    {
     "name": "stdout",
     "output_type": "stream",
     "text": [
      "-------------------------\n",
      "  Nodes: 214\n",
      "  Relationships: 436\n",
      "-------------------------\n"
     ]
    }
   ],
   "source": [
    "my_neo4j_number_nodes_relationships()"
   ]
  },
  {
   "cell_type": "code",
   "execution_count": 22,
   "id": "7686739a",
   "metadata": {},
   "outputs": [],
   "source": [
    "connection.rollback()\n",
    "\n",
    "query = \"\"\"\n",
    "\n",
    "select a.line, a.station as from_station, b.station as to_station, t.travel_time\n",
    "from lines a\n",
    "  join lines b\n",
    "    on a.line = b.line and b.sequence = (a.sequence + 1)\n",
    "  join travel_times t\n",
    "    on (a.station = t.station_1 and b.station = t.station_2)\n",
    "        or (a.station = t.station_2 and b.station = t.station_1)\n",
    "order by line, from_station, to_station\n",
    "\n",
    "\"\"\"\n",
    "\n",
    "cursor.execute(query)\n",
    "\n",
    "connection.rollback()\n",
    "\n",
    "rows = cursor.fetchall()"
   ]
  },
  {
   "cell_type": "code",
   "execution_count": 23,
   "id": "c1d846d5",
   "metadata": {},
   "outputs": [],
   "source": [
    "for row in rows:\n",
    "    \n",
    "    line = row[0]\n",
    "    from_station = row[1]\n",
    "    to_station = row[2]\n",
    "    travel_time = int(row[3])\n",
    "    \n",
    "    my_neo4j_create_relationship_two_way(line + ' ' + from_station, line + ' ' + to_station, travel_time)\n",
    "    "
   ]
  },
  {
   "cell_type": "code",
   "execution_count": 24,
   "id": "a6397b4d",
   "metadata": {},
   "outputs": [
    {
     "name": "stdout",
     "output_type": "stream",
     "text": [
      "-------------------------\n",
      "  Nodes: 214\n",
      "  Relationships: 652\n",
      "-------------------------\n"
     ]
    }
   ],
   "source": [
    "my_neo4j_number_nodes_relationships()"
   ]
  },
  {
   "cell_type": "code",
   "execution_count": 25,
   "id": "8394e5fc",
   "metadata": {},
   "outputs": [
    {
     "data": {
      "text/plain": [
       "<neo4j._sync.work.result.Result at 0x7f5eb114e070>"
      ]
     },
     "execution_count": 25,
     "metadata": {},
     "output_type": "execute_result"
    }
   ],
   "source": [
    "query = \"CALL gds.graph.drop('ds_graph', false)\"\n",
    "session.run(query)\n",
    "\n",
    "query = \"\"\"\n",
    "\n",
    "CALL gds.graph.project('ds_graph', 'Station', 'LINK', \n",
    "                      {relationshipProperties: 'weight'})\n",
    "\"\"\"\n",
    "\n",
    "session.run(query)"
   ]
  },
  {
   "cell_type": "code",
   "execution_count": 26,
   "id": "dacc31ab",
   "metadata": {},
   "outputs": [],
   "source": [
    "def djikstra(source, target):\n",
    "    query = \"\"\"\n",
    "    MATCH (source:Station {name: $sourceName}), (target:Station {name: $targetName})\n",
    "    CALL gds.allShortestPaths.dijkstra.stream('ds_graph', {\n",
    "        sourceNode: source,\n",
    "        relationshipWeightProperty: 'weight'\n",
    "    })\n",
    "    YIELD index, sourceNode, targetNode, totalCost, nodeIds, costs, path WHERE target IN gds.util.asNodes(nodeIds)\n",
    "    RETURN\n",
    "        index,\n",
    "        gds.util.asNode(sourceNode).name AS sourceNodeName,\n",
    "        gds.util.asNode(targetNode).name AS targetNodeName,\n",
    "        totalCost,\n",
    "        [nodeId IN nodeIds | gds.util.asNode(nodeId).name] AS nodeNames,\n",
    "        costs,\n",
    "        nodes(path) as path\n",
    "    ORDER BY index\n",
    "    \"\"\"\n",
    "    temp_df = my_neo4j_run_query_pandas(query, sourceName = \"depart \" + source, targetName = \"arrive \" + target)\n",
    "    session.run(query, sourceName = \"depart \" + source, targetName = \"arrive \" + target)\n",
    "    return temp_df"
   ]
  },
  {
   "cell_type": "code",
   "execution_count": 27,
   "id": "24e921a2",
   "metadata": {},
   "outputs": [],
   "source": [
    "def format_djikstra(djikstra_df):\n",
    "    temp1 = djikstra_df['nodeNames'].explode().reset_index()\n",
    "    temp2 = djikstra_df['costs'].explode().reset_index()\n",
    "    return pd.concat([temp1,temp2], axis=1)[['nodeNames','costs']].rename(columns={\"nodeNames\":\"Station name\", \"costs\": \"Total travel time\"})\n",
    "    "
   ]
  },
  {
   "cell_type": "code",
   "execution_count": 28,
   "id": "72864bca",
   "metadata": {},
   "outputs": [],
   "source": [
    "nb_wd_df = djikstra(\"North Berkeley\", \"West Dublin\")\n",
    "results = format_djikstra(nb_wd_df)"
   ]
  },
  {
   "cell_type": "code",
   "execution_count": 29,
   "id": "228ecff6",
   "metadata": {},
   "outputs": [
    {
     "data": {
      "text/html": [
       "<div>\n",
       "<style scoped>\n",
       "    .dataframe tbody tr th:only-of-type {\n",
       "        vertical-align: middle;\n",
       "    }\n",
       "\n",
       "    .dataframe tbody tr th {\n",
       "        vertical-align: top;\n",
       "    }\n",
       "\n",
       "    .dataframe thead th {\n",
       "        text-align: right;\n",
       "    }\n",
       "</style>\n",
       "<table border=\"1\" class=\"dataframe\">\n",
       "  <thead>\n",
       "    <tr style=\"text-align: right;\">\n",
       "      <th></th>\n",
       "      <th>Station name</th>\n",
       "      <th>Total travel time</th>\n",
       "    </tr>\n",
       "  </thead>\n",
       "  <tbody>\n",
       "    <tr>\n",
       "      <th>0</th>\n",
       "      <td>depart North Berkeley</td>\n",
       "      <td>0.0</td>\n",
       "    </tr>\n",
       "    <tr>\n",
       "      <th>1</th>\n",
       "      <td>orange North Berkeley</td>\n",
       "      <td>0.0</td>\n",
       "    </tr>\n",
       "    <tr>\n",
       "      <th>2</th>\n",
       "      <td>orange Downtown Berkeley</td>\n",
       "      <td>120.0</td>\n",
       "    </tr>\n",
       "    <tr>\n",
       "      <th>3</th>\n",
       "      <td>orange Ashby</td>\n",
       "      <td>300.0</td>\n",
       "    </tr>\n",
       "    <tr>\n",
       "      <th>4</th>\n",
       "      <td>orange MacArthur</td>\n",
       "      <td>540.0</td>\n",
       "    </tr>\n",
       "    <tr>\n",
       "      <th>5</th>\n",
       "      <td>orange 19th Street</td>\n",
       "      <td>720.0</td>\n",
       "    </tr>\n",
       "    <tr>\n",
       "      <th>6</th>\n",
       "      <td>orange 12th Street</td>\n",
       "      <td>840.0</td>\n",
       "    </tr>\n",
       "    <tr>\n",
       "      <th>7</th>\n",
       "      <td>orange Lake Merritt</td>\n",
       "      <td>1020.0</td>\n",
       "    </tr>\n",
       "    <tr>\n",
       "      <th>8</th>\n",
       "      <td>orange Fruitvale</td>\n",
       "      <td>1320.0</td>\n",
       "    </tr>\n",
       "    <tr>\n",
       "      <th>9</th>\n",
       "      <td>orange Coliseum</td>\n",
       "      <td>1560.0</td>\n",
       "    </tr>\n",
       "    <tr>\n",
       "      <th>10</th>\n",
       "      <td>blue Coliseum</td>\n",
       "      <td>1614.0</td>\n",
       "    </tr>\n",
       "    <tr>\n",
       "      <th>11</th>\n",
       "      <td>blue San Leandro</td>\n",
       "      <td>1854.0</td>\n",
       "    </tr>\n",
       "    <tr>\n",
       "      <th>12</th>\n",
       "      <td>blue Bay Fair</td>\n",
       "      <td>2094.0</td>\n",
       "    </tr>\n",
       "    <tr>\n",
       "      <th>13</th>\n",
       "      <td>blue Castro Valley</td>\n",
       "      <td>2334.0</td>\n",
       "    </tr>\n",
       "    <tr>\n",
       "      <th>14</th>\n",
       "      <td>blue West Dublin</td>\n",
       "      <td>2934.0</td>\n",
       "    </tr>\n",
       "    <tr>\n",
       "      <th>15</th>\n",
       "      <td>arrive West Dublin</td>\n",
       "      <td>2934.0</td>\n",
       "    </tr>\n",
       "  </tbody>\n",
       "</table>\n",
       "</div>"
      ],
      "text/plain": [
       "                Station name Total travel time\n",
       "0      depart North Berkeley               0.0\n",
       "1      orange North Berkeley               0.0\n",
       "2   orange Downtown Berkeley             120.0\n",
       "3               orange Ashby             300.0\n",
       "4           orange MacArthur             540.0\n",
       "5         orange 19th Street             720.0\n",
       "6         orange 12th Street             840.0\n",
       "7        orange Lake Merritt            1020.0\n",
       "8           orange Fruitvale            1320.0\n",
       "9            orange Coliseum            1560.0\n",
       "10             blue Coliseum            1614.0\n",
       "11          blue San Leandro            1854.0\n",
       "12             blue Bay Fair            2094.0\n",
       "13        blue Castro Valley            2334.0\n",
       "14          blue West Dublin            2934.0\n",
       "15        arrive West Dublin            2934.0"
      ]
     },
     "execution_count": 29,
     "metadata": {},
     "output_type": "execute_result"
    }
   ],
   "source": [
    "results"
   ]
  },
  {
   "cell_type": "code",
   "execution_count": 30,
   "id": "98fbb82e",
   "metadata": {},
   "outputs": [],
   "source": [
    "shortest_path_df = nb_wd_df.rename(columns = {\"totalCost\": \"travelTime\", \"nodeNames\": \"pathTaken\"})[['sourceNodeName','targetNodeName','travelTime','pathTaken','costs']]"
   ]
  },
  {
   "cell_type": "code",
   "execution_count": 31,
   "id": "c75c12b6",
   "metadata": {},
   "outputs": [
    {
     "data": {
      "text/html": [
       "<div>\n",
       "<style scoped>\n",
       "    .dataframe tbody tr th:only-of-type {\n",
       "        vertical-align: middle;\n",
       "    }\n",
       "\n",
       "    .dataframe tbody tr th {\n",
       "        vertical-align: top;\n",
       "    }\n",
       "\n",
       "    .dataframe thead th {\n",
       "        text-align: right;\n",
       "    }\n",
       "</style>\n",
       "<table border=\"1\" class=\"dataframe\">\n",
       "  <thead>\n",
       "    <tr style=\"text-align: right;\">\n",
       "      <th></th>\n",
       "      <th>sourceNodeName</th>\n",
       "      <th>targetNodeName</th>\n",
       "      <th>travelTime</th>\n",
       "      <th>pathTaken</th>\n",
       "      <th>costs</th>\n",
       "    </tr>\n",
       "  </thead>\n",
       "  <tbody>\n",
       "    <tr>\n",
       "      <th>0</th>\n",
       "      <td>depart North Berkeley</td>\n",
       "      <td>arrive West Dublin</td>\n",
       "      <td>2934.0</td>\n",
       "      <td>[depart North Berkeley, orange North Berkeley,...</td>\n",
       "      <td>[0.0, 0.0, 120.0, 300.0, 540.0, 720.0, 840.0, ...</td>\n",
       "    </tr>\n",
       "  </tbody>\n",
       "</table>\n",
       "</div>"
      ],
      "text/plain": [
       "          sourceNodeName      targetNodeName  travelTime  \\\n",
       "0  depart North Berkeley  arrive West Dublin      2934.0   \n",
       "\n",
       "                                           pathTaken  \\\n",
       "0  [depart North Berkeley, orange North Berkeley,...   \n",
       "\n",
       "                                               costs  \n",
       "0  [0.0, 0.0, 120.0, 300.0, 540.0, 720.0, 840.0, ...  "
      ]
     },
     "execution_count": 31,
     "metadata": {},
     "output_type": "execute_result"
    }
   ],
   "source": [
    "shortest_path_df"
   ]
  },
  {
   "cell_type": "code",
   "execution_count": null,
   "id": "307eaf1c",
   "metadata": {},
   "outputs": [],
   "source": []
  }
 ],
 "metadata": {
  "kernelspec": {
   "display_name": "Python 3 (ipykernel)",
   "language": "python",
   "name": "python3"
  },
  "language_info": {
   "codemirror_mode": {
    "name": "ipython",
    "version": 3
   },
   "file_extension": ".py",
   "mimetype": "text/x-python",
   "name": "python",
   "nbconvert_exporter": "python",
   "pygments_lexer": "ipython3",
   "version": "3.9.7"
  }
 },
 "nbformat": 4,
 "nbformat_minor": 5
}
