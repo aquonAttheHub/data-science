{
 "cells": [
  {
   "cell_type": "markdown",
   "id": "cd11da2a",
   "metadata": {},
   "source": [
    "# Project 1, Part 6, Identifying Best Customers\n"
   ]
  },
  {
   "cell_type": "markdown",
   "id": "701f1c25",
   "metadata": {},
   "source": [
    "# 1.6 Ideas on how the sales data can be used to help identify best customers\n",
    "\n",
    "The data science team would like to know your best ideas on how the sales data can be used to help identify the company's best customers.\n",
    "\n",
    "\n",
    "\n",
    "They are going to start with the most common and most basic model known as RFM, which consists of the 3 dimensions.\n",
    "\n",
    "* R - Recency - How recently did the customer purchase?\n",
    "\n",
    "* F - Frequency - How often do they purchase?\n",
    "\n",
    "* M - Monetary Value - How much do they spend?\n",
    "\n",
    "\n",
    "\n",
    "At first glance, it's pretty easy to think of a simple query for each dimension.\n",
    "\n",
    "However, after some thought, it's not quite so easy. It's very open ended, with a lot of grey areas, and no single right or wrong answer (just like 99% of data science and AI!)  For each dimension, there can be some pretty complex ways to determine.\n",
    "\n",
    "The data science team also has to come up with a way to synthesize the 3 dimensions into a single customer value for each customer.\n",
    "\n",
    "\n",
    "\n",
    "The data science team would like for you to present your ideas in the form of a title and 4 paragraphs as follows:\n",
    "\n",
    "* Title - A title describing what you will be explaining\n",
    "\n",
    "* Recency - A brief paragraph explaining your ideas on how the data can be used to determine recency.  \n",
    "\n",
    "* Frequency - A brief paragraph explaining your ideas on how the data can be used to determine frequency.\n",
    "\n",
    "* Monetary Value - A brief paragraph explaining your ideas on how the data can be used to determine monetary value.\n",
    "\n",
    "* Synthesis - A brief paragraph explaining your ideas on how to synthesize the 3 dimensions of recency, frequency, and monetary value into a customer value for each customer and how to determine who the best customers are.\n",
    "\n",
    "\n",
    "\n",
    "Put the title and all 4 paragraphs in a single markdown cell.\n",
    "\n",
    "Note that you do not write code for this, only english language descriptions of your ideas.\n",
    "\n"
   ]
  },
  {
   "cell_type": "markdown",
   "id": "67dd986f",
   "metadata": {},
   "source": [
    "# How the 3 Metrics - Recency, Frequency, Monetary Value - can Identify Best Customers\n",
    "\n",
    "Recency refers to how recently a customer made a purchase. To determine recency, we can join the customers and sales tables on customer_id, group by the customer_id, and apply the maximum aggregate function on the sale_date column to get the latest or most recent sale date for a customer.\n",
    "\n",
    "Frequency, which is how often a customer purchases, can be obtained by joining together customers and sales on customer_id and taking the average of the differences between successive sale_date times for each customer. This is a valid approach since the average differences between successive sale_date times gives us a sense of when a customer will purchase from the company again after a given sale and time with the same customer.\n",
    "\n",
    "Monetary value, which captures information on how much a customer spends, can be obtained by information from the customers and sales tables. We can join the customers and sales tables on customer_id and find the total amount of money a particular customer spends for all relevant sales sales. This can be accomplished by grouping by customer_id and applying the sum aggregate on the total_amount column.\n",
    "\n",
    "We want to value customers who have made a recent purchase, buy frequently, and spend more. To get recency into a meaningful number, we can take the difference between the current date and each customer's most recent sale date. The average of differences between successive sales can be used as a good metric of frequency dating back to 2 years. The 2 year timeframe allows us to account for customers who make expensive purchases from the company, which might occur at larger intervals. The total sales amount for each customer is a good indicator of a customer's monetary value. Weighting these factors equally (giving each metric a weight of 1/3) will lessen the influence of certain customers who weigh heavily in one area but very low in all others. These are customers such as those who purchased a high-priced item awhile ago but have not been consistent or those who made a transaction out of curiosity and never plan on being a long-term customer. Additionally, since the scale of a metric might be naturally higher than the others, we will need to normalize each of the metrics so that the numerical values for recency, frequency, and monetary value are of similar scale. This will prevent the scoring from preferring one metric more than the others, which is what we want when we want to value frequency, recency, and monetary value. The result will be a weighted sum of recency, frequency, and monetary value scores for each customer. The higher the weighted sum, the more valuable the customer.\n",
    "\n",
    "\n",
    "\n",
    "\n",
    "\n",
    "\n",
    "\n"
   ]
  },
  {
   "cell_type": "code",
   "execution_count": null,
   "id": "c4e9b7c3",
   "metadata": {},
   "outputs": [],
   "source": []
  }
 ],
 "metadata": {
  "kernelspec": {
   "display_name": "Python 3 (ipykernel)",
   "language": "python",
   "name": "python3"
  },
  "language_info": {
   "codemirror_mode": {
    "name": "ipython",
    "version": 3
   },
   "file_extension": ".py",
   "mimetype": "text/x-python",
   "name": "python",
   "nbconvert_exporter": "python",
   "pygments_lexer": "ipython3",
   "version": "3.9.7"
  }
 },
 "nbformat": 4,
 "nbformat_minor": 5
}
