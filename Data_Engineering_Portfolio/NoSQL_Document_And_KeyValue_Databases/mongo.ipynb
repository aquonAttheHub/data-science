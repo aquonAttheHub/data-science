{
 "cells": [
  {
   "cell_type": "markdown",
   "id": "b7e51eda",
   "metadata": {},
   "source": [
    "# Mongo"
   ]
  },
  {
   "cell_type": "markdown",
   "id": "8d35b490",
   "metadata": {},
   "source": [
    "# Lab: MongoDB"
   ]
  },
  {
   "cell_type": "code",
   "execution_count": 1,
   "id": "6209b8cd",
   "metadata": {},
   "outputs": [],
   "source": [
    "import pymongo\n",
    "\n",
    "import json\n",
    "\n",
    "import pprint"
   ]
  },
  {
   "cell_type": "markdown",
   "id": "4e9b4494",
   "metadata": {},
   "source": [
    "## Connect to the mongo database; mongodb is the protocol; mongo is the hostname, which for us is the container name; 27017 is the TCP port number"
   ]
  },
  {
   "cell_type": "code",
   "execution_count": 2,
   "id": "7fc9706a",
   "metadata": {},
   "outputs": [],
   "source": [
    "mongo = pymongo.MongoClient(\"mongodb://mongo:27017/\")"
   ]
  },
  {
   "cell_type": "markdown",
   "id": "8b54bc02",
   "metadata": {},
   "source": [
    "## In case the database acme_gourmet_meals already exists from prior runs, we will delete it; if it does not exist, it will not hurt anything"
   ]
  },
  {
   "cell_type": "code",
   "execution_count": 3,
   "id": "221f8ee3",
   "metadata": {},
   "outputs": [],
   "source": [
    "mongo.drop_database(\"acme_gourmet_meals\")"
   ]
  },
  {
   "cell_type": "markdown",
   "id": "879867ca",
   "metadata": {},
   "source": [
    "## List the mongo databases"
   ]
  },
  {
   "cell_type": "code",
   "execution_count": 4,
   "id": "f84d12ac",
   "metadata": {},
   "outputs": [
    {
     "data": {
      "text/plain": [
       "['admin', 'config', 'local']"
      ]
     },
     "execution_count": 4,
     "metadata": {},
     "output_type": "execute_result"
    }
   ],
   "source": [
    "db_list = mongo.list_database_names()\n",
    "db_list"
   ]
  },
  {
   "cell_type": "markdown",
   "id": "46b3df2e",
   "metadata": {},
   "source": [
    "## Create a new database called acme_gourmet_meals; the new database will not actually get created until we add documents to it"
   ]
  },
  {
   "cell_type": "code",
   "execution_count": 5,
   "id": "970693a1",
   "metadata": {},
   "outputs": [],
   "source": [
    "db = mongo[\"acme_gourmet_meals\"]"
   ]
  },
  {
   "cell_type": "code",
   "execution_count": 6,
   "id": "b2d5d403",
   "metadata": {},
   "outputs": [
    {
     "data": {
      "text/plain": [
       "['admin', 'config', 'local']"
      ]
     },
     "execution_count": 6,
     "metadata": {},
     "output_type": "execute_result"
    }
   ],
   "source": [
    "db_list = mongo.list_database_names()\n",
    "db_list"
   ]
  },
  {
   "cell_type": "markdown",
   "id": "6db8c17b",
   "metadata": {},
   "source": [
    "## Create a collection called stores;  A collection is a collection of documents, similar to a list of JSON objects; like the database the new collection will not actually get created until we add documents to it"
   ]
  },
  {
   "cell_type": "code",
   "execution_count": 8,
   "id": "002909c9",
   "metadata": {},
   "outputs": [],
   "source": [
    "stores_collection = db[\"stores\"]"
   ]
  },
  {
   "cell_type": "code",
   "execution_count": 9,
   "id": "b16de2e9",
   "metadata": {},
   "outputs": [
    {
     "data": {
      "text/plain": [
       "['admin', 'config', 'local']"
      ]
     },
     "execution_count": 9,
     "metadata": {},
     "output_type": "execute_result"
    }
   ],
   "source": [
    "db_list = mongo.list_database_names()\n",
    "db_list"
   ]
  },
  {
   "cell_type": "code",
   "execution_count": 10,
   "id": "6bd104c8",
   "metadata": {},
   "outputs": [
    {
     "data": {
      "text/plain": [
       "[]"
      ]
     },
     "execution_count": 10,
     "metadata": {},
     "output_type": "execute_result"
    }
   ],
   "source": [
    "collection_list = db.list_collection_names()\n",
    "collection_list"
   ]
  },
  {
   "cell_type": "markdown",
   "id": "aa4bbad5",
   "metadata": {},
   "source": [
    "## Read in the JSON file temp_stores_nested.json which we have previously created back in Data Wrangling; insert the first JSON store object as a document in the stores collection in the acme_gourmet_meals database; mongo assignes a unique inserted_id to each document added "
   ]
  },
  {
   "cell_type": "code",
   "execution_count": 11,
   "id": "2b3dc056",
   "metadata": {},
   "outputs": [],
   "source": [
    "f = open(\"temp_stores_nested.json\")\n",
    "file_json = json.load(f)\n",
    "f.close()\n",
    "\n",
    "stores_json_list = file_json[\"stores\"]"
   ]
  },
  {
   "cell_type": "code",
   "execution_count": 12,
   "id": "dd5b8f7a",
   "metadata": {},
   "outputs": [],
   "source": [
    "first_store_json = stores_json_list[0]\n",
    "\n",
    "store_document = stores_collection.insert_one(first_store_json)"
   ]
  },
  {
   "cell_type": "code",
   "execution_count": 13,
   "id": "be9ec99b",
   "metadata": {},
   "outputs": [
    {
     "name": "stdout",
     "output_type": "stream",
     "text": [
      "6542fc8142b0c4569313afad\n"
     ]
    }
   ],
   "source": [
    "print(store_document.inserted_id)"
   ]
  },
  {
   "cell_type": "markdown",
   "id": "bf8cdc48",
   "metadata": {},
   "source": [
    "## Now that we have actually inserted a document, the database and the collection we previously specified has now been created"
   ]
  },
  {
   "cell_type": "code",
   "execution_count": 14,
   "id": "905b4af3",
   "metadata": {},
   "outputs": [
    {
     "data": {
      "text/plain": [
       "['acme_gourmet_meals', 'admin', 'config', 'local']"
      ]
     },
     "execution_count": 14,
     "metadata": {},
     "output_type": "execute_result"
    }
   ],
   "source": [
    "db_list = mongo.list_database_names()\n",
    "db_list"
   ]
  },
  {
   "cell_type": "code",
   "execution_count": 15,
   "id": "d191e27e",
   "metadata": {},
   "outputs": [
    {
     "data": {
      "text/plain": [
       "['stores']"
      ]
     },
     "execution_count": 15,
     "metadata": {},
     "output_type": "execute_result"
    }
   ],
   "source": [
    "collection_list = db.list_collection_names()\n",
    "collection_list"
   ]
  },
  {
   "cell_type": "markdown",
   "id": "a2f78797",
   "metadata": {},
   "source": [
    "## Query the document we just inserted; find_one() will find the first document in the collection; from Python, we always insert a dictionary, and find_one() returns a dictionary"
   ]
  },
  {
   "cell_type": "code",
   "execution_count": 16,
   "id": "74a05406",
   "metadata": {},
   "outputs": [],
   "source": [
    "store_document = stores_collection.find_one()"
   ]
  },
  {
   "cell_type": "code",
   "execution_count": 17,
   "id": "af934e99",
   "metadata": {},
   "outputs": [
    {
     "name": "stdout",
     "output_type": "stream",
     "text": [
      "<class 'dict'>\n"
     ]
    }
   ],
   "source": [
    "print(type(store_document))"
   ]
  },
  {
   "cell_type": "code",
   "execution_count": 18,
   "id": "183bc3f5",
   "metadata": {},
   "outputs": [
    {
     "name": "stdout",
     "output_type": "stream",
     "text": [
      "{'_id': ObjectId('6542fc8142b0c4569313afad'), 'store_id': 1, 'street': '3000 Telegraph Ave', 'city': 'Berkeley', 'state': 'CA', 'zip': '94705', 'latitude': 37.8555, 'longitude': -122.2604, 'sales': [{'sale_id': 128112, 'sale_date': '2020-04-30', 'total_amount': 24, 'customer': {'customer_id': 3491, 'first_name': 'Siouxie', 'last_name': \"M'Quharge\", 'street': '747 Westridge Center', 'city': 'Alameda', 'state': 'CA', 'zip': '94501', 'closest_store_id': 1, 'distance': 6}, 'line_items': [{'line_item_id': 1, 'quantity': 1, 'product': {'product_id': 1, 'description': 'Pistachio Salmon'}}, {'line_item_id': 2, 'quantity': 1, 'product': {'product_id': 8, 'description': 'Brocolli Stir Fry'}}]}, {'sale_id': 144249, 'sale_date': '2020-05-16', 'total_amount': 84, 'customer': {'customer_id': 1597, 'first_name': 'Norry', 'last_name': 'Macauley', 'street': '654 Sommers Plaza', 'city': 'Oakland', 'state': 'CA', 'zip': '94612', 'closest_store_id': 1, 'distance': 3}, 'line_items': [{'line_item_id': 1, 'quantity': 1, 'product': {'product_id': 1, 'description': 'Pistachio Salmon'}}, {'line_item_id': 2, 'quantity': 1, 'product': {'product_id': 2, 'description': 'Teriyaki Chicken'}}, {'line_item_id': 3, 'quantity': 2, 'product': {'product_id': 4, 'description': 'Eggplant Lasagna'}}, {'line_item_id': 4, 'quantity': 1, 'product': {'product_id': 6, 'description': 'Curry Chicken'}}, {'line_item_id': 5, 'quantity': 2, 'product': {'product_id': 8, 'description': 'Brocolli Stir Fry'}}]}, {'sale_id': 163141, 'sale_date': '2020-06-04', 'total_amount': 96, 'customer': {'customer_id': 4159, 'first_name': 'Cheryl', 'last_name': 'Broe', 'street': '7 Ruskin Alley', 'city': 'El Sobrante', 'state': 'CA', 'zip': '94803', 'closest_store_id': 1, 'distance': 7}, 'line_items': [{'line_item_id': 1, 'quantity': 3, 'product': {'product_id': 1, 'description': 'Pistachio Salmon'}}, {'line_item_id': 2, 'quantity': 1, 'product': {'product_id': 3, 'description': 'Spinach Orzo'}}, {'line_item_id': 3, 'quantity': 1, 'product': {'product_id': 5, 'description': 'Chicken Salad'}}, {'line_item_id': 4, 'quantity': 1, 'product': {'product_id': 7, 'description': 'Tilapia Piccata'}}, {'line_item_id': 5, 'quantity': 2, 'product': {'product_id': 8, 'description': 'Brocolli Stir Fry'}}]}, {'sale_id': 169216, 'sale_date': '2020-06-09', 'total_amount': 144, 'customer': {'customer_id': 4198, 'first_name': 'Andreana', 'last_name': 'Drew', 'street': '11039 Cordelia Alley', 'city': 'El Sobrante', 'state': 'CA', 'zip': '94803', 'closest_store_id': 1, 'distance': 7}, 'line_items': [{'line_item_id': 1, 'quantity': 3, 'product': {'product_id': 1, 'description': 'Pistachio Salmon'}}, {'line_item_id': 2, 'quantity': 1, 'product': {'product_id': 3, 'description': 'Spinach Orzo'}}, {'line_item_id': 3, 'quantity': 4, 'product': {'product_id': 4, 'description': 'Eggplant Lasagna'}}, {'line_item_id': 4, 'quantity': 1, 'product': {'product_id': 5, 'description': 'Chicken Salad'}}, {'line_item_id': 5, 'quantity': 2, 'product': {'product_id': 6, 'description': 'Curry Chicken'}}, {'line_item_id': 6, 'quantity': 1, 'product': {'product_id': 8, 'description': 'Brocolli Stir Fry'}}]}, {'sale_id': 179181, 'sale_date': '2020-06-18', 'total_amount': 48, 'customer': {'customer_id': 5394, 'first_name': 'Katharina', 'last_name': 'Bavester', 'street': '522 Cordelia Lane', 'city': 'San Francisco', 'state': 'CA', 'zip': '94102', 'closest_store_id': 1, 'distance': 10}, 'line_items': [{'line_item_id': 1, 'quantity': 1, 'product': {'product_id': 2, 'description': 'Teriyaki Chicken'}}, {'line_item_id': 2, 'quantity': 1, 'product': {'product_id': 3, 'description': 'Spinach Orzo'}}, {'line_item_id': 3, 'quantity': 1, 'product': {'product_id': 4, 'description': 'Eggplant Lasagna'}}, {'line_item_id': 4, 'quantity': 1, 'product': {'product_id': 6, 'description': 'Curry Chicken'}}]}, {'sale_id': 181897, 'sale_date': '2020-06-20', 'total_amount': 48, 'customer': {'customer_id': 1958, 'first_name': 'Theresina', 'last_name': 'Penswick', 'street': '5975 Twin Pines Hill', 'city': 'Berkeley', 'state': 'CA', 'zip': '94707', 'closest_store_id': 1, 'distance': 3}, 'line_items': [{'line_item_id': 1, 'quantity': 1, 'product': {'product_id': 1, 'description': 'Pistachio Salmon'}}, {'line_item_id': 2, 'quantity': 1, 'product': {'product_id': 6, 'description': 'Curry Chicken'}}, {'line_item_id': 3, 'quantity': 2, 'product': {'product_id': 8, 'description': 'Brocolli Stir Fry'}}]}, {'sale_id': 248269, 'sale_date': '2020-08-22', 'total_amount': 60, 'customer': {'customer_id': 4260, 'first_name': 'Dom', 'last_name': 'Risbrough', 'street': '3 Northland Crossing', 'city': 'Richmond', 'state': 'CA', 'zip': '94805', 'closest_store_id': 1, 'distance': 7}, 'line_items': [{'line_item_id': 1, 'quantity': 3, 'product': {'product_id': 1, 'description': 'Pistachio Salmon'}}, {'line_item_id': 2, 'quantity': 1, 'product': {'product_id': 5, 'description': 'Chicken Salad'}}, {'line_item_id': 3, 'quantity': 1, 'product': {'product_id': 8, 'description': 'Brocolli Stir Fry'}}]}, {'sale_id': 250031, 'sale_date': '2020-08-23', 'total_amount': 24, 'customer': {'customer_id': 6782, 'first_name': 'Lyndsay', 'last_name': 'Iuorio', 'street': '4 Thackeray Road', 'city': 'Walnut Creek', 'state': 'CA', 'zip': '94596', 'closest_store_id': 1, 'distance': 12}, 'line_items': [{'line_item_id': 1, 'quantity': 1, 'product': {'product_id': 1, 'description': 'Pistachio Salmon'}}, {'line_item_id': 2, 'quantity': 1, 'product': {'product_id': 4, 'description': 'Eggplant Lasagna'}}]}, {'sale_id': 255285, 'sale_date': '2020-08-29', 'total_amount': 36, 'customer': {'customer_id': 563, 'first_name': 'Rose', 'last_name': 'Slimings', 'street': '38 Iowa Street', 'city': 'Berkeley', 'state': 'CA', 'zip': '94704', 'closest_store_id': 1, 'distance': 1}, 'line_items': [{'line_item_id': 1, 'quantity': 1, 'product': {'product_id': 2, 'description': 'Teriyaki Chicken'}}, {'line_item_id': 2, 'quantity': 2, 'product': {'product_id': 4, 'description': 'Eggplant Lasagna'}}]}, {'sale_id': 263524, 'sale_date': '2020-09-07', 'total_amount': 48, 'customer': {'customer_id': 1991, 'first_name': 'Kevon', 'last_name': 'Wickett', 'street': '472 Arizona Court', 'city': 'Berkeley', 'state': 'CA', 'zip': '94707', 'closest_store_id': 1, 'distance': 3}, 'line_items': [{'line_item_id': 1, 'quantity': 2, 'product': {'product_id': 4, 'description': 'Eggplant Lasagna'}}, {'line_item_id': 2, 'quantity': 1, 'product': {'product_id': 6, 'description': 'Curry Chicken'}}, {'line_item_id': 3, 'quantity': 1, 'product': {'product_id': 8, 'description': 'Brocolli Stir Fry'}}]}]}\n"
     ]
    }
   ],
   "source": [
    "print(store_document)"
   ]
  },
  {
   "cell_type": "code",
   "execution_count": 19,
   "id": "cf5d7459",
   "metadata": {},
   "outputs": [
    {
     "name": "stdout",
     "output_type": "stream",
     "text": [
      "{'_id': ObjectId('6542fc8142b0c4569313afad'),\n",
      " 'city': 'Berkeley',\n",
      " 'latitude': 37.8555,\n",
      " 'longitude': -122.2604,\n",
      " 'sales': [{'customer': {'city': 'Alameda',\n",
      "                         'closest_store_id': 1,\n",
      "                         'customer_id': 3491,\n",
      "                         'distance': 6,\n",
      "                         'first_name': 'Siouxie',\n",
      "                         'last_name': \"M'Quharge\",\n",
      "                         'state': 'CA',\n",
      "                         'street': '747 Westridge Center',\n",
      "                         'zip': '94501'},\n",
      "            'line_items': [{'line_item_id': 1,\n",
      "                            'product': {'description': 'Pistachio Salmon',\n",
      "                                        'product_id': 1},\n",
      "                            'quantity': 1},\n",
      "                           {'line_item_id': 2,\n",
      "                            'product': {'description': 'Brocolli Stir Fry',\n",
      "                                        'product_id': 8},\n",
      "                            'quantity': 1}],\n",
      "            'sale_date': '2020-04-30',\n",
      "            'sale_id': 128112,\n",
      "            'total_amount': 24},\n",
      "           {'customer': {'city': 'Oakland',\n",
      "                         'closest_store_id': 1,\n",
      "                         'customer_id': 1597,\n",
      "                         'distance': 3,\n",
      "                         'first_name': 'Norry',\n",
      "                         'last_name': 'Macauley',\n",
      "                         'state': 'CA',\n",
      "                         'street': '654 Sommers Plaza',\n",
      "                         'zip': '94612'},\n",
      "            'line_items': [{'line_item_id': 1,\n",
      "                            'product': {'description': 'Pistachio Salmon',\n",
      "                                        'product_id': 1},\n",
      "                            'quantity': 1},\n",
      "                           {'line_item_id': 2,\n",
      "                            'product': {'description': 'Teriyaki Chicken',\n",
      "                                        'product_id': 2},\n",
      "                            'quantity': 1},\n",
      "                           {'line_item_id': 3,\n",
      "                            'product': {'description': 'Eggplant Lasagna',\n",
      "                                        'product_id': 4},\n",
      "                            'quantity': 2},\n",
      "                           {'line_item_id': 4,\n",
      "                            'product': {'description': 'Curry Chicken',\n",
      "                                        'product_id': 6},\n",
      "                            'quantity': 1},\n",
      "                           {'line_item_id': 5,\n",
      "                            'product': {'description': 'Brocolli Stir Fry',\n",
      "                                        'product_id': 8},\n",
      "                            'quantity': 2}],\n",
      "            'sale_date': '2020-05-16',\n",
      "            'sale_id': 144249,\n",
      "            'total_amount': 84},\n",
      "           {'customer': {'city': 'El Sobrante',\n",
      "                         'closest_store_id': 1,\n",
      "                         'customer_id': 4159,\n",
      "                         'distance': 7,\n",
      "                         'first_name': 'Cheryl',\n",
      "                         'last_name': 'Broe',\n",
      "                         'state': 'CA',\n",
      "                         'street': '7 Ruskin Alley',\n",
      "                         'zip': '94803'},\n",
      "            'line_items': [{'line_item_id': 1,\n",
      "                            'product': {'description': 'Pistachio Salmon',\n",
      "                                        'product_id': 1},\n",
      "                            'quantity': 3},\n",
      "                           {'line_item_id': 2,\n",
      "                            'product': {'description': 'Spinach Orzo',\n",
      "                                        'product_id': 3},\n",
      "                            'quantity': 1},\n",
      "                           {'line_item_id': 3,\n",
      "                            'product': {'description': 'Chicken Salad',\n",
      "                                        'product_id': 5},\n",
      "                            'quantity': 1},\n",
      "                           {'line_item_id': 4,\n",
      "                            'product': {'description': 'Tilapia Piccata',\n",
      "                                        'product_id': 7},\n",
      "                            'quantity': 1},\n",
      "                           {'line_item_id': 5,\n",
      "                            'product': {'description': 'Brocolli Stir Fry',\n",
      "                                        'product_id': 8},\n",
      "                            'quantity': 2}],\n",
      "            'sale_date': '2020-06-04',\n",
      "            'sale_id': 163141,\n",
      "            'total_amount': 96},\n",
      "           {'customer': {'city': 'El Sobrante',\n",
      "                         'closest_store_id': 1,\n",
      "                         'customer_id': 4198,\n",
      "                         'distance': 7,\n",
      "                         'first_name': 'Andreana',\n",
      "                         'last_name': 'Drew',\n",
      "                         'state': 'CA',\n",
      "                         'street': '11039 Cordelia Alley',\n",
      "                         'zip': '94803'},\n",
      "            'line_items': [{'line_item_id': 1,\n",
      "                            'product': {'description': 'Pistachio Salmon',\n",
      "                                        'product_id': 1},\n",
      "                            'quantity': 3},\n",
      "                           {'line_item_id': 2,\n",
      "                            'product': {'description': 'Spinach Orzo',\n",
      "                                        'product_id': 3},\n",
      "                            'quantity': 1},\n",
      "                           {'line_item_id': 3,\n",
      "                            'product': {'description': 'Eggplant Lasagna',\n",
      "                                        'product_id': 4},\n",
      "                            'quantity': 4},\n",
      "                           {'line_item_id': 4,\n",
      "                            'product': {'description': 'Chicken Salad',\n",
      "                                        'product_id': 5},\n",
      "                            'quantity': 1},\n",
      "                           {'line_item_id': 5,\n",
      "                            'product': {'description': 'Curry Chicken',\n",
      "                                        'product_id': 6},\n",
      "                            'quantity': 2},\n",
      "                           {'line_item_id': 6,\n",
      "                            'product': {'description': 'Brocolli Stir Fry',\n",
      "                                        'product_id': 8},\n",
      "                            'quantity': 1}],\n",
      "            'sale_date': '2020-06-09',\n",
      "            'sale_id': 169216,\n",
      "            'total_amount': 144},\n",
      "           {'customer': {'city': 'San Francisco',\n",
      "                         'closest_store_id': 1,\n",
      "                         'customer_id': 5394,\n",
      "                         'distance': 10,\n",
      "                         'first_name': 'Katharina',\n",
      "                         'last_name': 'Bavester',\n",
      "                         'state': 'CA',\n",
      "                         'street': '522 Cordelia Lane',\n",
      "                         'zip': '94102'},\n",
      "            'line_items': [{'line_item_id': 1,\n",
      "                            'product': {'description': 'Teriyaki Chicken',\n",
      "                                        'product_id': 2},\n",
      "                            'quantity': 1},\n",
      "                           {'line_item_id': 2,\n",
      "                            'product': {'description': 'Spinach Orzo',\n",
      "                                        'product_id': 3},\n",
      "                            'quantity': 1},\n",
      "                           {'line_item_id': 3,\n",
      "                            'product': {'description': 'Eggplant Lasagna',\n",
      "                                        'product_id': 4},\n",
      "                            'quantity': 1},\n",
      "                           {'line_item_id': 4,\n",
      "                            'product': {'description': 'Curry Chicken',\n",
      "                                        'product_id': 6},\n",
      "                            'quantity': 1}],\n",
      "            'sale_date': '2020-06-18',\n",
      "            'sale_id': 179181,\n",
      "            'total_amount': 48},\n",
      "           {'customer': {'city': 'Berkeley',\n",
      "                         'closest_store_id': 1,\n",
      "                         'customer_id': 1958,\n",
      "                         'distance': 3,\n",
      "                         'first_name': 'Theresina',\n",
      "                         'last_name': 'Penswick',\n",
      "                         'state': 'CA',\n",
      "                         'street': '5975 Twin Pines Hill',\n",
      "                         'zip': '94707'},\n",
      "            'line_items': [{'line_item_id': 1,\n",
      "                            'product': {'description': 'Pistachio Salmon',\n",
      "                                        'product_id': 1},\n",
      "                            'quantity': 1},\n",
      "                           {'line_item_id': 2,\n",
      "                            'product': {'description': 'Curry Chicken',\n",
      "                                        'product_id': 6},\n",
      "                            'quantity': 1},\n",
      "                           {'line_item_id': 3,\n",
      "                            'product': {'description': 'Brocolli Stir Fry',\n",
      "                                        'product_id': 8},\n",
      "                            'quantity': 2}],\n",
      "            'sale_date': '2020-06-20',\n",
      "            'sale_id': 181897,\n",
      "            'total_amount': 48},\n",
      "           {'customer': {'city': 'Richmond',\n",
      "                         'closest_store_id': 1,\n",
      "                         'customer_id': 4260,\n",
      "                         'distance': 7,\n",
      "                         'first_name': 'Dom',\n",
      "                         'last_name': 'Risbrough',\n",
      "                         'state': 'CA',\n",
      "                         'street': '3 Northland Crossing',\n",
      "                         'zip': '94805'},\n",
      "            'line_items': [{'line_item_id': 1,\n",
      "                            'product': {'description': 'Pistachio Salmon',\n",
      "                                        'product_id': 1},\n",
      "                            'quantity': 3},\n",
      "                           {'line_item_id': 2,\n",
      "                            'product': {'description': 'Chicken Salad',\n",
      "                                        'product_id': 5},\n",
      "                            'quantity': 1},\n",
      "                           {'line_item_id': 3,\n",
      "                            'product': {'description': 'Brocolli Stir Fry',\n",
      "                                        'product_id': 8},\n",
      "                            'quantity': 1}],\n",
      "            'sale_date': '2020-08-22',\n",
      "            'sale_id': 248269,\n",
      "            'total_amount': 60},\n",
      "           {'customer': {'city': 'Walnut Creek',\n",
      "                         'closest_store_id': 1,\n",
      "                         'customer_id': 6782,\n",
      "                         'distance': 12,\n",
      "                         'first_name': 'Lyndsay',\n",
      "                         'last_name': 'Iuorio',\n",
      "                         'state': 'CA',\n",
      "                         'street': '4 Thackeray Road',\n",
      "                         'zip': '94596'},\n",
      "            'line_items': [{'line_item_id': 1,\n",
      "                            'product': {'description': 'Pistachio Salmon',\n",
      "                                        'product_id': 1},\n",
      "                            'quantity': 1},\n",
      "                           {'line_item_id': 2,\n",
      "                            'product': {'description': 'Eggplant Lasagna',\n",
      "                                        'product_id': 4},\n",
      "                            'quantity': 1}],\n",
      "            'sale_date': '2020-08-23',\n",
      "            'sale_id': 250031,\n",
      "            'total_amount': 24},\n",
      "           {'customer': {'city': 'Berkeley',\n",
      "                         'closest_store_id': 1,\n",
      "                         'customer_id': 563,\n",
      "                         'distance': 1,\n",
      "                         'first_name': 'Rose',\n",
      "                         'last_name': 'Slimings',\n",
      "                         'state': 'CA',\n",
      "                         'street': '38 Iowa Street',\n",
      "                         'zip': '94704'},\n",
      "            'line_items': [{'line_item_id': 1,\n",
      "                            'product': {'description': 'Teriyaki Chicken',\n",
      "                                        'product_id': 2},\n",
      "                            'quantity': 1},\n",
      "                           {'line_item_id': 2,\n",
      "                            'product': {'description': 'Eggplant Lasagna',\n",
      "                                        'product_id': 4},\n",
      "                            'quantity': 2}],\n",
      "            'sale_date': '2020-08-29',\n",
      "            'sale_id': 255285,\n",
      "            'total_amount': 36},\n",
      "           {'customer': {'city': 'Berkeley',\n",
      "                         'closest_store_id': 1,\n",
      "                         'customer_id': 1991,\n",
      "                         'distance': 3,\n",
      "                         'first_name': 'Kevon',\n",
      "                         'last_name': 'Wickett',\n",
      "                         'state': 'CA',\n",
      "                         'street': '472 Arizona Court',\n",
      "                         'zip': '94707'},\n",
      "            'line_items': [{'line_item_id': 1,\n",
      "                            'product': {'description': 'Eggplant Lasagna',\n",
      "                                        'product_id': 4},\n",
      "                            'quantity': 2},\n",
      "                           {'line_item_id': 2,\n",
      "                            'product': {'description': 'Curry Chicken',\n",
      "                                        'product_id': 6},\n",
      "                            'quantity': 1},\n",
      "                           {'line_item_id': 3,\n",
      "                            'product': {'description': 'Brocolli Stir Fry',\n",
      "                                        'product_id': 8},\n",
      "                            'quantity': 1}],\n",
      "            'sale_date': '2020-09-07',\n",
      "            'sale_id': 263524,\n",
      "            'total_amount': 48}],\n",
      " 'state': 'CA',\n",
      " 'store_id': 1,\n",
      " 'street': '3000 Telegraph Ave',\n",
      " 'zip': '94705'}\n"
     ]
    }
   ],
   "source": [
    "pprint.pprint(store_document)"
   ]
  },
  {
   "cell_type": "markdown",
   "id": "7a0208e6",
   "metadata": {},
   "source": [
    "## Delete the stores collection; recreate the stores collection; load all the stores JSON objects into the collection; print the inserted_ids; "
   ]
  },
  {
   "cell_type": "code",
   "execution_count": 20,
   "id": "f2a6b903",
   "metadata": {},
   "outputs": [],
   "source": [
    "stores_collection.drop()"
   ]
  },
  {
   "cell_type": "code",
   "execution_count": 21,
   "id": "48a6a92c",
   "metadata": {},
   "outputs": [],
   "source": [
    "stores_collection = db[\"stores\"]"
   ]
  },
  {
   "cell_type": "code",
   "execution_count": 22,
   "id": "3eae3707",
   "metadata": {},
   "outputs": [],
   "source": [
    "inserted_documents = stores_collection.insert_many(stores_json_list)"
   ]
  },
  {
   "cell_type": "code",
   "execution_count": 23,
   "id": "23eabd7a",
   "metadata": {},
   "outputs": [
    {
     "name": "stdout",
     "output_type": "stream",
     "text": [
      "[ObjectId('6542fc8142b0c4569313afad'), ObjectId('6542ffab42b0c4569313afae'), ObjectId('6542ffab42b0c4569313afaf'), ObjectId('6542ffab42b0c4569313afb0'), ObjectId('6542ffab42b0c4569313afb1')]\n"
     ]
    }
   ],
   "source": [
    "print(inserted_documents.inserted_ids)"
   ]
  },
  {
   "cell_type": "markdown",
   "id": "f5060055",
   "metadata": {},
   "source": [
    "## Query all the documents in the stores collection, loop through them, and print some info about each document "
   ]
  },
  {
   "cell_type": "code",
   "execution_count": 24,
   "id": "9dcdeca6",
   "metadata": {},
   "outputs": [
    {
     "name": "stdout",
     "output_type": "stream",
     "text": [
      "store_id: 1 city: Berkeley\n",
      "store_id: 2 city: Seattle\n",
      "store_id: 3 city: Dallas\n",
      "store_id: 4 city: Miami\n",
      "store_id: 5 city: Nashville\n"
     ]
    }
   ],
   "source": [
    "for store_document in stores_collection.find():\n",
    "    print(\"store_id:\", store_document['store_id'], \"city:\", store_document['city'])"
   ]
  },
  {
   "cell_type": "markdown",
   "id": "cff1c866",
   "metadata": {},
   "source": [
    "## Query using a filter object in the find() method"
   ]
  },
  {
   "cell_type": "code",
   "execution_count": 25,
   "id": "b9054b1b",
   "metadata": {},
   "outputs": [
    {
     "name": "stdout",
     "output_type": "stream",
     "text": [
      "store_id: 1 city: Berkeley\n"
     ]
    }
   ],
   "source": [
    "filter = { \"city\": \"Berkeley\" }\n",
    "    \n",
    "for store_document in stores_collection.find(filter):\n",
    "    print(\"store_id:\", store_document['store_id'], \"city:\", store_document['city'])"
   ]
  },
  {
   "cell_type": "code",
   "execution_count": 26,
   "id": "02b9ddad",
   "metadata": {},
   "outputs": [
    {
     "name": "stdout",
     "output_type": "stream",
     "text": [
      "store_id: 5 city: Nashville\n"
     ]
    }
   ],
   "source": [
    "filter = { \"city\": \"Nashville\" }\n",
    "    \n",
    "for store_document in stores_collection.find(filter):\n",
    "    print(\"store_id:\", store_document['store_id'], \"city:\", store_document['city'])"
   ]
  },
  {
   "cell_type": "code",
   "execution_count": 27,
   "id": "5217fbf7",
   "metadata": {},
   "outputs": [
    {
     "name": "stdout",
     "output_type": "stream",
     "text": [
      "store_id: 2 city: Seattle\n",
      "store_id: 4 city: Miami\n",
      "store_id: 5 city: Nashville\n"
     ]
    }
   ],
   "source": [
    "filter = { \"city\": { \"$gt\": \"M\"} }\n",
    "    \n",
    "for store_document in stores_collection.find(filter):\n",
    "    print(\"store_id:\", store_document['store_id'], \"city:\", store_document['city'])"
   ]
  },
  {
   "cell_type": "markdown",
   "id": "f5e73364",
   "metadata": {},
   "source": [
    "## Query on a nested field"
   ]
  },
  {
   "cell_type": "code",
   "execution_count": 28,
   "id": "592c9968",
   "metadata": {},
   "outputs": [
    {
     "name": "stdout",
     "output_type": "stream",
     "text": [
      "store_id: 1 city: Berkeley\n",
      "store_id: 4 city: Miami\n"
     ]
    }
   ],
   "source": [
    "filter = { \"sales.total_amount\": 60 }\n",
    "    \n",
    "for store_document in stores_collection.find(filter):\n",
    "    print(\"store_id:\", store_document['store_id'], \"city:\", store_document['city'])"
   ]
  },
  {
   "cell_type": "code",
   "execution_count": 29,
   "id": "f8316f6a",
   "metadata": {},
   "outputs": [
    {
     "name": "stdout",
     "output_type": "stream",
     "text": [
      "store_id: 1 city: Berkeley\n",
      "store_id: 2 city: Seattle\n",
      "store_id: 3 city: Dallas\n",
      "store_id: 4 city: Miami\n"
     ]
    }
   ],
   "source": [
    "filter = { \"sales.line_items.quantity\": 4 }\n",
    "    \n",
    "for store_document in stores_collection.find(filter):\n",
    "    print(\"store_id:\", store_document['store_id'], \"city:\", store_document['city'])"
   ]
  },
  {
   "cell_type": "markdown",
   "id": "baacf5ec",
   "metadata": {},
   "source": [
    "## Sort the results of a query in ascending order"
   ]
  },
  {
   "cell_type": "code",
   "execution_count": 30,
   "id": "09b02e8a",
   "metadata": {},
   "outputs": [
    {
     "name": "stdout",
     "output_type": "stream",
     "text": [
      "store_id: 4 city: Miami\n",
      "store_id: 5 city: Nashville\n",
      "store_id: 2 city: Seattle\n"
     ]
    }
   ],
   "source": [
    "filter = { \"city\": { \"$gt\": \"M\"} }\n",
    "    \n",
    "for store_document in stores_collection.find(filter).sort(\"city\"):\n",
    "    print(\"store_id:\", store_document['store_id'], \"city:\", store_document['city'])"
   ]
  },
  {
   "cell_type": "markdown",
   "id": "bb6fea5a",
   "metadata": {},
   "source": [
    "## Sort the results of a query in descending order"
   ]
  },
  {
   "cell_type": "code",
   "execution_count": 31,
   "id": "b68c3bf3",
   "metadata": {},
   "outputs": [
    {
     "name": "stdout",
     "output_type": "stream",
     "text": [
      "store_id: 2 city: Seattle\n",
      "store_id: 5 city: Nashville\n",
      "store_id: 4 city: Miami\n"
     ]
    }
   ],
   "source": [
    "filter = { \"city\": { \"$gt\": \"M\"} }\n",
    "    \n",
    "for store_document in stores_collection.find(filter).sort(\"city\", -1):\n",
    "    print(\"store_id:\", store_document['store_id'], \"city:\", store_document['city'])"
   ]
  },
  {
   "cell_type": "markdown",
   "id": "d78797b7",
   "metadata": {},
   "source": [
    "## Delete one document matching a filter"
   ]
  },
  {
   "cell_type": "code",
   "execution_count": 32,
   "id": "14e6bb8b",
   "metadata": {},
   "outputs": [
    {
     "data": {
      "text/plain": [
       "<pymongo.results.DeleteResult at 0x7f64e03d0280>"
      ]
     },
     "execution_count": 32,
     "metadata": {},
     "output_type": "execute_result"
    }
   ],
   "source": [
    "filter = { \"city\": \"Berkeley\" }\n",
    "    \n",
    "stores_collection.delete_one(filter)\n"
   ]
  },
  {
   "cell_type": "code",
   "execution_count": 33,
   "id": "2c1c0d86",
   "metadata": {},
   "outputs": [
    {
     "name": "stdout",
     "output_type": "stream",
     "text": [
      "store_id: 2 city: Seattle\n",
      "store_id: 3 city: Dallas\n",
      "store_id: 4 city: Miami\n",
      "store_id: 5 city: Nashville\n"
     ]
    }
   ],
   "source": [
    "for store_document in stores_collection.find():\n",
    "    print(\"store_id:\", store_document['store_id'], \"city:\", store_document['city'])"
   ]
  },
  {
   "cell_type": "markdown",
   "id": "af890775",
   "metadata": {},
   "source": [
    "## Delete many documents matching a filter"
   ]
  },
  {
   "cell_type": "code",
   "execution_count": 34,
   "id": "cff91ac2",
   "metadata": {},
   "outputs": [
    {
     "data": {
      "text/plain": [
       "<pymongo.results.DeleteResult at 0x7f64c4d41780>"
      ]
     },
     "execution_count": 34,
     "metadata": {},
     "output_type": "execute_result"
    }
   ],
   "source": [
    "filter = { \"city\": { \"$gt\": \"N\"} }\n",
    "    \n",
    "stores_collection.delete_many(filter)"
   ]
  },
  {
   "cell_type": "code",
   "execution_count": 35,
   "id": "6cf7b280",
   "metadata": {},
   "outputs": [
    {
     "name": "stdout",
     "output_type": "stream",
     "text": [
      "store_id: 3 city: Dallas\n",
      "store_id: 4 city: Miami\n"
     ]
    }
   ],
   "source": [
    "for store_document in stores_collection.find():\n",
    "    print(\"store_id:\", store_document['store_id'], \"city:\", store_document['city'])"
   ]
  },
  {
   "cell_type": "markdown",
   "id": "a3b2fc20",
   "metadata": {},
   "source": [
    "## Delete all documents in a collection"
   ]
  },
  {
   "cell_type": "code",
   "execution_count": 36,
   "id": "30755537",
   "metadata": {},
   "outputs": [
    {
     "data": {
      "text/plain": [
       "<pymongo.results.DeleteResult at 0x7f64ea1281c0>"
      ]
     },
     "execution_count": 36,
     "metadata": {},
     "output_type": "execute_result"
    }
   ],
   "source": [
    "filter = { }\n",
    "    \n",
    "stores_collection.delete_many(filter)"
   ]
  },
  {
   "cell_type": "code",
   "execution_count": 37,
   "id": "f8638cb6",
   "metadata": {},
   "outputs": [],
   "source": [
    "for store_document in stores_collection.find():\n",
    "    print(\"store_id:\", store_document['store_id'], \"city:\", store_document['city'])"
   ]
  },
  {
   "cell_type": "markdown",
   "id": "82fb1a92",
   "metadata": {},
   "source": [
    "## You try it\n",
    "\n",
    "## Create a collection called sales; load the file temp_sales_nested.json into the collection; run some queries on the collection\n",
    "\n",
    "## Create a collection called customers; load the file temp_customers_nested.json into the collection; run some queries on the collection"
   ]
  },
  {
   "cell_type": "code",
   "execution_count": 38,
   "id": "4f29b865",
   "metadata": {},
   "outputs": [],
   "source": [
    "sales_collection = db[\"sales\"]"
   ]
  },
  {
   "cell_type": "code",
   "execution_count": 39,
   "id": "28b15be6",
   "metadata": {},
   "outputs": [
    {
     "data": {
      "text/plain": [
       "['stores']"
      ]
     },
     "execution_count": 39,
     "metadata": {},
     "output_type": "execute_result"
    }
   ],
   "source": [
    "collection_list = db.list_collection_names()\n",
    "collection_list"
   ]
  },
  {
   "cell_type": "code",
   "execution_count": 40,
   "id": "1fd18929",
   "metadata": {},
   "outputs": [],
   "source": [
    "f = open(\"temp_sales_nested.json\")\n",
    "file_json = json.load(f)\n",
    "f.close()\n",
    "\n",
    "sales_json_list = file_json[\"sales\"]"
   ]
  },
  {
   "cell_type": "code",
   "execution_count": 41,
   "id": "3b884867",
   "metadata": {},
   "outputs": [],
   "source": [
    "first_sale_json = sales_json_list[0]\n",
    "\n",
    "sale_document = sales_collection.insert_one(first_sale_json)"
   ]
  },
  {
   "cell_type": "code",
   "execution_count": 42,
   "id": "df8bff18",
   "metadata": {},
   "outputs": [
    {
     "name": "stdout",
     "output_type": "stream",
     "text": [
      "6543033a42b0c4569313afb2\n"
     ]
    }
   ],
   "source": [
    "print(sale_document.inserted_id)"
   ]
  },
  {
   "cell_type": "code",
   "execution_count": 43,
   "id": "ef5d1687",
   "metadata": {},
   "outputs": [
    {
     "data": {
      "text/plain": [
       "['acme_gourmet_meals', 'admin', 'config', 'local']"
      ]
     },
     "execution_count": 43,
     "metadata": {},
     "output_type": "execute_result"
    }
   ],
   "source": [
    "db_list = mongo.list_database_names()\n",
    "db_list"
   ]
  },
  {
   "cell_type": "code",
   "execution_count": 44,
   "id": "9fb672ed",
   "metadata": {},
   "outputs": [
    {
     "data": {
      "text/plain": [
       "['stores', 'sales']"
      ]
     },
     "execution_count": 44,
     "metadata": {},
     "output_type": "execute_result"
    }
   ],
   "source": [
    "collection_list = db.list_collection_names()\n",
    "collection_list"
   ]
  },
  {
   "cell_type": "code",
   "execution_count": 46,
   "id": "93ff2a80",
   "metadata": {},
   "outputs": [
    {
     "name": "stdout",
     "output_type": "stream",
     "text": [
      "{'_id': ObjectId('6543033a42b0c4569313afb2'), 'receipt_number': '001-000128112', 'sale_date': '2020-04-30', 'sub_total': 24, 'tax': 0, 'total_amount': 24, 'store': {'store_id': 1, 'street': '3000 Telegraph Ave', 'city': 'Berkeley', 'state': 'CA', 'zip': '94705', 'latitude': 37.8555, 'longitude': -122.2604}, 'customer': {'customer_id': 3491, 'first_name': 'Siouxie', 'last_name': \"M'Quharge\", 'first_last_name': \"Siouxie M'Quharge\", 'last_first_name': \"M'Quharge, Siouxie\", 'street': '747 Westridge Center', 'city': 'Alameda', 'state': 'CA', 'zip': '94501', 'population': 63843, 'area': 8.3977, 'density': 7602.4, 'closest_store_id': 1, 'distance': 6}, 'line_items': [{'product_id': 1, 'description': 'Pistachio Salmon', 'price': 12, 'quantity': 1, 'line_total': 12}, {'product_id': 8, 'description': 'Brocolli Stir Fry', 'price': 12, 'quantity': 1, 'line_total': 12}]}\n"
     ]
    }
   ],
   "source": [
    "sale_document = sales_collection.find_one()\n",
    "print(sale_document)"
   ]
  },
  {
   "cell_type": "code",
   "execution_count": 47,
   "id": "1914bb1a",
   "metadata": {},
   "outputs": [
    {
     "name": "stdout",
     "output_type": "stream",
     "text": [
      "[ObjectId('6543033a42b0c4569313afb2'), ObjectId('6543041042b0c4569313afb3'), ObjectId('6543041042b0c4569313afb4'), ObjectId('6543041042b0c4569313afb5'), ObjectId('6543041042b0c4569313afb6'), ObjectId('6543041042b0c4569313afb7'), ObjectId('6543041042b0c4569313afb8'), ObjectId('6543041042b0c4569313afb9'), ObjectId('6543041042b0c4569313afba'), ObjectId('6543041042b0c4569313afbb'), ObjectId('6543041042b0c4569313afbc'), ObjectId('6543041042b0c4569313afbd'), ObjectId('6543041042b0c4569313afbe'), ObjectId('6543041042b0c4569313afbf'), ObjectId('6543041042b0c4569313afc0'), ObjectId('6543041042b0c4569313afc1'), ObjectId('6543041042b0c4569313afc2'), ObjectId('6543041042b0c4569313afc3'), ObjectId('6543041042b0c4569313afc4'), ObjectId('6543041042b0c4569313afc5'), ObjectId('6543041042b0c4569313afc6'), ObjectId('6543041042b0c4569313afc7'), ObjectId('6543041042b0c4569313afc8'), ObjectId('6543041042b0c4569313afc9'), ObjectId('6543041042b0c4569313afca'), ObjectId('6543041042b0c4569313afcb'), ObjectId('6543041042b0c4569313afcc'), ObjectId('6543041042b0c4569313afcd'), ObjectId('6543041042b0c4569313afce'), ObjectId('6543041042b0c4569313afcf'), ObjectId('6543041042b0c4569313afd0'), ObjectId('6543041042b0c4569313afd1'), ObjectId('6543041042b0c4569313afd2'), ObjectId('6543041042b0c4569313afd3'), ObjectId('6543041042b0c4569313afd4'), ObjectId('6543041042b0c4569313afd5'), ObjectId('6543041042b0c4569313afd6'), ObjectId('6543041042b0c4569313afd7'), ObjectId('6543041042b0c4569313afd8'), ObjectId('6543041042b0c4569313afd9'), ObjectId('6543041042b0c4569313afda'), ObjectId('6543041042b0c4569313afdb'), ObjectId('6543041042b0c4569313afdc'), ObjectId('6543041042b0c4569313afdd'), ObjectId('6543041042b0c4569313afde'), ObjectId('6543041042b0c4569313afdf'), ObjectId('6543041042b0c4569313afe0'), ObjectId('6543041042b0c4569313afe1'), ObjectId('6543041042b0c4569313afe2'), ObjectId('6543041042b0c4569313afe3')]\n"
     ]
    }
   ],
   "source": [
    "sales_collection.drop()\n",
    "sales_collection = db[\"sales\"]\n",
    "inserted_documents = sales_collection.insert_many(sales_json_list)\n",
    "print(inserted_documents.inserted_ids)"
   ]
  },
  {
   "cell_type": "code",
   "execution_count": 50,
   "id": "3d66379a",
   "metadata": {},
   "outputs": [
    {
     "name": "stdout",
     "output_type": "stream",
     "text": [
      "receipt: 001-000128112 total_amount: 24\n",
      "receipt: 001-000144249 total_amount: 84\n",
      "receipt: 001-000163141 total_amount: 96\n",
      "receipt: 001-000169216 total_amount: 144\n",
      "receipt: 001-000179181 total_amount: 48\n",
      "receipt: 001-000181897 total_amount: 48\n",
      "receipt: 001-000248269 total_amount: 60\n",
      "receipt: 001-000250031 total_amount: 24\n",
      "receipt: 001-000255285 total_amount: 36\n",
      "receipt: 001-000263524 total_amount: 48\n",
      "receipt: 002-000105004 total_amount: 36\n",
      "receipt: 002-000109083 total_amount: 132\n",
      "receipt: 002-000115446 total_amount: 12\n",
      "receipt: 002-000115912 total_amount: 48\n",
      "receipt: 002-000119996 total_amount: 36\n",
      "receipt: 002-000144107 total_amount: 96\n",
      "receipt: 002-000158290 total_amount: 84\n",
      "receipt: 002-000203726 total_amount: 132\n",
      "receipt: 002-000217889 total_amount: 24\n",
      "receipt: 002-000218323 total_amount: 48\n",
      "receipt: 003-000099402 total_amount: 36\n",
      "receipt: 003-000131547 total_amount: 84\n",
      "receipt: 003-000131827 total_amount: 108\n",
      "receipt: 003-000134868 total_amount: 48\n",
      "receipt: 003-000154102 total_amount: 24\n",
      "receipt: 003-000164376 total_amount: 108\n",
      "receipt: 003-000177427 total_amount: 24\n",
      "receipt: 003-000183488 total_amount: 12\n",
      "receipt: 003-000186881 total_amount: 144\n",
      "receipt: 003-000209184 total_amount: 36\n",
      "receipt: 004-000089887 total_amount: 48\n",
      "receipt: 004-000111979 total_amount: 108\n",
      "receipt: 004-000115633 total_amount: 120\n",
      "receipt: 004-000137286 total_amount: 24\n",
      "receipt: 004-000138546 total_amount: 96\n",
      "receipt: 004-000143587 total_amount: 60\n",
      "receipt: 004-000177033 total_amount: 48\n",
      "receipt: 004-000177233 total_amount: 60\n",
      "receipt: 004-000183530 total_amount: 144\n",
      "receipt: 004-000192337 total_amount: 96\n",
      "receipt: 005-000088989 total_amount: 24\n",
      "receipt: 005-000104373 total_amount: 48\n",
      "receipt: 005-000105691 total_amount: 24\n",
      "receipt: 005-000107715 total_amount: 36\n",
      "receipt: 005-000109305 total_amount: 120\n",
      "receipt: 005-000126722 total_amount: 36\n",
      "receipt: 005-000136553 total_amount: 36\n",
      "receipt: 005-000136735 total_amount: 96\n",
      "receipt: 005-000147541 total_amount: 96\n",
      "receipt: 005-000157919 total_amount: 48\n"
     ]
    }
   ],
   "source": [
    "for sale_document in sales_collection.find():\n",
    "    print(\"receipt:\", sale_document['receipt_number'], \"total_amount:\", sale_document['total_amount'])"
   ]
  },
  {
   "cell_type": "code",
   "execution_count": 51,
   "id": "aeb96705",
   "metadata": {},
   "outputs": [
    {
     "name": "stdout",
     "output_type": "stream",
     "text": [
      "receipt: 001-000163141 total_amount: 96\n",
      "receipt: 001-000169216 total_amount: 144\n",
      "receipt: 002-000109083 total_amount: 132\n",
      "receipt: 002-000144107 total_amount: 96\n",
      "receipt: 002-000203726 total_amount: 132\n",
      "receipt: 003-000131827 total_amount: 108\n",
      "receipt: 003-000164376 total_amount: 108\n",
      "receipt: 003-000186881 total_amount: 144\n",
      "receipt: 004-000111979 total_amount: 108\n",
      "receipt: 004-000115633 total_amount: 120\n",
      "receipt: 004-000138546 total_amount: 96\n",
      "receipt: 004-000183530 total_amount: 144\n",
      "receipt: 004-000192337 total_amount: 96\n",
      "receipt: 005-000109305 total_amount: 120\n",
      "receipt: 005-000136735 total_amount: 96\n",
      "receipt: 005-000147541 total_amount: 96\n"
     ]
    }
   ],
   "source": [
    "filter = { \"total_amount\": { \"$gte\": 96} }\n",
    "  \n",
    "for sale_document in sales_collection.find(filter):\n",
    "    print(\"receipt:\", sale_document['receipt_number'], \"total_amount:\", sale_document['total_amount'])"
   ]
  },
  {
   "cell_type": "code",
   "execution_count": 52,
   "id": "dd7159a0",
   "metadata": {},
   "outputs": [
    {
     "name": "stdout",
     "output_type": "stream",
     "text": [
      "receipt: 001-000128112 total_amount: 24\n",
      "receipt: 001-000144249 total_amount: 84\n",
      "receipt: 001-000163141 total_amount: 96\n",
      "receipt: 001-000169216 total_amount: 144\n",
      "receipt: 001-000181897 total_amount: 48\n",
      "receipt: 001-000248269 total_amount: 60\n",
      "receipt: 001-000263524 total_amount: 48\n",
      "receipt: 002-000105004 total_amount: 36\n",
      "receipt: 002-000218323 total_amount: 48\n",
      "receipt: 003-000164376 total_amount: 108\n",
      "receipt: 003-000186881 total_amount: 144\n",
      "receipt: 003-000209184 total_amount: 36\n",
      "receipt: 004-000089887 total_amount: 48\n",
      "receipt: 004-000111979 total_amount: 108\n",
      "receipt: 004-000138546 total_amount: 96\n",
      "receipt: 004-000143587 total_amount: 60\n",
      "receipt: 004-000177233 total_amount: 60\n",
      "receipt: 004-000183530 total_amount: 144\n",
      "receipt: 005-000109305 total_amount: 120\n"
     ]
    }
   ],
   "source": [
    "filter = { \"line_items.product_id\": 8 }\n",
    "    \n",
    "for sale_document in sales_collection.find(filter):\n",
    "    print(\"receipt:\", sale_document['receipt_number'], \"total_amount:\", sale_document['total_amount'])"
   ]
  },
  {
   "cell_type": "code",
   "execution_count": 53,
   "id": "6694b858",
   "metadata": {},
   "outputs": [
    {
     "name": "stdout",
     "output_type": "stream",
     "text": [
      "receipt: 001-000169216 total_amount: 144\n",
      "receipt: 002-000109083 total_amount: 132\n",
      "receipt: 003-000186881 total_amount: 144\n",
      "receipt: 004-000115633 total_amount: 120\n",
      "receipt: 004-000192337 total_amount: 96\n"
     ]
    }
   ],
   "source": [
    "filter = { \"line_items.quantity\": 4 }\n",
    "    \n",
    "for sale_document in sales_collection.find(filter):\n",
    "    print(\"receipt:\", sale_document['receipt_number'], \"total_amount:\", sale_document['total_amount'])"
   ]
  }
 ],
 "metadata": {
  "kernelspec": {
   "display_name": "Python 3 (ipykernel)",
   "language": "python",
   "name": "python3"
  },
  "language_info": {
   "codemirror_mode": {
    "name": "ipython",
    "version": 3
   },
   "file_extension": ".py",
   "mimetype": "text/x-python",
   "name": "python",
   "nbconvert_exporter": "python",
   "pygments_lexer": "ipython3",
   "version": "3.9.7"
  }
 },
 "nbformat": 4,
 "nbformat_minor": 5
}
